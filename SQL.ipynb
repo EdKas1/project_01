{
  "nbformat": 4,
  "nbformat_minor": 0,
  "metadata": {
    "colab": {
      "provenance": [],
      "authorship_tag": "ABX9TyMCBnrPV/2liglbp91DiAHr",
      "include_colab_link": true
    },
    "kernelspec": {
      "name": "python3",
      "display_name": "Python 3"
    },
    "language_info": {
      "name": "python"
    }
  },
  "cells": [
    {
      "cell_type": "markdown",
      "metadata": {
        "id": "view-in-github",
        "colab_type": "text"
      },
      "source": [
        "<a href=\"https://colab.research.google.com/github/EdKas1/project_01/blob/main/SQL.ipynb\" target=\"_parent\"><img src=\"https://colab.research.google.com/assets/colab-badge.svg\" alt=\"Open In Colab\"/></a>"
      ]
    },
    {
      "cell_type": "code",
      "source": [
        "#import sqlite3\n",
        "#connection = sqlite3.connect('teatchers.db')\n",
        "#cursor = connection.cursor()\n",
        "#query = \"\"\"ALTER TABLE School ADD FOREIGN School_id (School_id) REFERENCES Students(School_id);\n",
        "#\"\"\"\n",
        "\n",
        "#connection.commit()\n",
        "#connection.close()\n",
        "#VALUES\n",
        "#(\"201\", \"Иван\", \"1\"),\n",
        "#(\"202\", \"Петр\", \"2\"),\n",
        "#(\"203\", \"Анастасия\", \"3\"),\n",
        "#(\"204\", \"Игорь\", \"4\");\n",
        "#\n",
        "#(School_Id , School_Name , Place_Count)\n",
        "#VALUES\n",
        "#('1', 'Протон', '200'),\n",
        "#('2', 'Электрон', '300'),\n",
        "#('3', 'Атом', '400'),\n",
        "#('4', 'Фотон', '500');\n",
        "#CREATE TABLE Students (\n",
        "  #Students_Id INTEGER NOT NULL PRIMARY KEY,\n",
        "  #Students_Name TEXT NOT NULL,\n",
        "  #School_Id INTEGER NOT NULL);\n",
        "\n",
        "\n",
        "#INSERT INTO Teatcher (Teatcher_Id , Teatcher_Name , School_Id, Joining_Date , Speciality , Salary, Experience)\n",
        "#VALUES\n",
        "#('101', 'Галина', '1', '2021 02 10', ' Физик ', '40000', NULL),\n",
        "#('102', 'Мария', '1', '2018 07 23', ' Химик ', '20000', NULL),\n",
        "#('103', 'Ольга', '2', '2022 05 19', 'Информатик', '25000', NULL),\n",
        "#('104', 'Полина', '2', '2017 12 28', 'Физик ', '28000', NULL),\n",
        "#('105', 'Лидия', '3', '2015 06 04', 'Информатик', '42000', NULL),\n",
        "#('106', 'Анастасия', '3', '2019 09 11', 'Учитель трудов', '30000', NULL),\n",
        "#('107', 'Ирина', '4', '2020 08 21', 'Информатик', '32000', NULL),\n",
        "#('108', 'Виктория', '4', '2017 10 17', 'Географ', '30000', NULL);"
      ],
      "metadata": {
        "colab": {
          "base_uri": "https://localhost:8080/",
          "height": 235
        },
        "id": "6HZWak1m27Ah",
        "outputId": "bf9c36c2-fc37-4096-b92d-39b1c043cc1a"
      },
      "execution_count": 10,
      "outputs": [
        {
          "output_type": "error",
          "ename": "OperationalError",
          "evalue": "ignored",
          "traceback": [
            "\u001b[0;31m---------------------------------------------------------------------------\u001b[0m",
            "\u001b[0;31mOperationalError\u001b[0m                          Traceback (most recent call last)",
            "\u001b[0;32m<ipython-input-10-6386a9afdaa8>\u001b[0m in \u001b[0;36m<cell line: 7>\u001b[0;34m()\u001b[0m\n\u001b[1;32m      5\u001b[0m \"\"\"\n\u001b[1;32m      6\u001b[0m \u001b[0;34m\u001b[0m\u001b[0m\n\u001b[0;32m----> 7\u001b[0;31m \u001b[0mcursor\u001b[0m\u001b[0;34m.\u001b[0m\u001b[0mexecute\u001b[0m\u001b[0;34m(\u001b[0m\u001b[0mquery\u001b[0m\u001b[0;34m)\u001b[0m\u001b[0;34m\u001b[0m\u001b[0;34m\u001b[0m\u001b[0m\n\u001b[0m\u001b[1;32m      8\u001b[0m \u001b[0mconnection\u001b[0m\u001b[0;34m.\u001b[0m\u001b[0mcommit\u001b[0m\u001b[0;34m(\u001b[0m\u001b[0;34m)\u001b[0m\u001b[0;34m\u001b[0m\u001b[0;34m\u001b[0m\u001b[0m\n\u001b[1;32m      9\u001b[0m \u001b[0mconnection\u001b[0m\u001b[0;34m.\u001b[0m\u001b[0mclose\u001b[0m\u001b[0;34m(\u001b[0m\u001b[0;34m)\u001b[0m\u001b[0;34m\u001b[0m\u001b[0;34m\u001b[0m\u001b[0m\n",
            "\u001b[0;31mOperationalError\u001b[0m: near \"FOREIGN\": syntax error"
          ]
        }
      ]
    },
    {
      "cell_type": "code",
      "source": [
        "# Задача 6 . Вывести список учителей по ID школы\n",
        "import sqlite3\n",
        "\n",
        "def get_connection():\n",
        "  connection = sqlite3.connect('teatchers.db')\n",
        "  return connection\n",
        "\n",
        "def close_connection(connection):\n",
        "  if connection:\n",
        "    connection.close()\n",
        "\n",
        "def get_school_name(school_id):\n",
        "  try:\n",
        "    connection = get_connection()\n",
        "    cursor = connection.cursor()\n",
        "    select_query = \"\"\"SELECT * FROM School WHERE School_Id = ?\"\"\"\n",
        "    cursor.execute(select_query,(school_id,))\n",
        "    record = cursor.fetchone()\n",
        "    close_connection(connection)\n",
        "    return record[1]\n",
        "  except (Exception, sqlite3.Error) as err:\n",
        "    print (\"Ошибка в получении данных\", err)\n",
        "\n",
        "def get_student(school_id):\n",
        "  try:\n",
        "    school_name = get_school_name(school_id)\n",
        "    connection = get_connection()\n",
        "    cursor = connection.cursor()\n",
        "    sql_select_query = \"\"\"SELECT * FROM Students WHERE School_Id = ?\"\"\"\n",
        "    cursor.execute(sql_select_query, (school_id,))\n",
        "    records = cursor.fetchall()\n",
        "    print (\"Товарищ из школы\", school_name)\n",
        "    for row in records:\n",
        "      print (\"ID: \", row[0])\n",
        "      print (\"Имя: \", row[1])\n",
        "      print (\"ID школы: \", row[2])\n",
        "      print (\"Название школы: \", school_name)\n",
        "  except (Exception, sqlite3.Error) as err:\n",
        "    print (\"Ошибка в получении данных\", err)\n",
        "\n",
        "print (\"Задача 6. Вывести список Students по ID школы \\n\")\n",
        "get_student(1)"
      ],
      "metadata": {
        "colab": {
          "base_uri": "https://localhost:8080/"
        },
        "id": "e3gpAcqz8XII",
        "outputId": "8e2c9a90-3546-47ae-e6fb-a4b516a785f3"
      },
      "execution_count": 16,
      "outputs": [
        {
          "output_type": "stream",
          "name": "stdout",
          "text": [
            "Задача 6. Вывести список Students по ID школы \n",
            "\n",
            "Товарищ из школы Протон\n",
            "ID:  201\n",
            "Имя:  Иван\n",
            "ID школы:  1\n",
            "Название школы:  Протон\n"
          ]
        }
      ]
    },
    {
      "cell_type": "code",
      "source": [
        "# Задача 1 . Вывeсти информацию по Id Student\n",
        "import sqlite3\n",
        "\n",
        "def get_connection():\n",
        "  connection = sqlite3.connect('teatchers.db')\n",
        "  return connection\n",
        "\n",
        "def close_connection(connection):\n",
        "  if connection:\n",
        "    connection.close()\n",
        "\n",
        "def get_school_name(student_id):\n",
        "  try:\n",
        "    connection = get_connection()\n",
        "    cursor = connection.cursor()\n",
        "    select_query = \"\"\"SELECT * FROM Students WHERE School_Id = ?\"\"\"\n",
        "    cursor.execute(select_query,(school_id,))\n",
        "    record = cursor.fetchone()\n",
        "    close_connection(connection)\n",
        "    return record[1]\n",
        "  except (Exception, sqlite3.Error) as err:\n",
        "    print (\"Ошибка в получении данных\", err)\n",
        "\n",
        "def get_student(student_id):\n",
        "  try:\n",
        "    school_name = get_school_name(student_id)\n",
        "    connection = get_connection()\n",
        "    cursor = connection.cursor()\n",
        "    sql_select_query = \"\"\"SELECT * FROM Students WHERE School_Id = ?\"\"\"\n",
        "    cursor.execute(sql_select_query, (student_id,))\n",
        "    records = cursor.fetchall()\n",
        "    print (\"Товарищ из школы\", school_name)\n",
        "    for row in records:\n",
        "      print (\"ID: \", row[0])\n",
        "      print (\"Имя: \", row[1])\n",
        "      print (\"ID школы: \", row[2])\n",
        "      print (\"Название школы: \", school_name)\n",
        "  except (Exception, sqlite3.Error) as err:\n",
        "    print (\"Ошибка в получении данных\", err)\n",
        "\n",
        "print (\"Задача 6. Вывести список Students по ID школы \\n\")\n",
        "get_student(201)"
      ],
      "metadata": {
        "colab": {
          "base_uri": "https://localhost:8080/"
        },
        "id": "4TEpnD64BBvS",
        "outputId": "2543fb2b-c138-4dd8-df95-9b529d63ee58"
      },
      "execution_count": 20,
      "outputs": [
        {
          "output_type": "stream",
          "name": "stdout",
          "text": [
            "Задача 6. Вывести список Students по ID школы \n",
            "\n",
            "Ошибка в получении данных name 'school_id' is not defined\n",
            "Товарищ из школы None\n"
          ]
        }
      ]
    }
  ]
}